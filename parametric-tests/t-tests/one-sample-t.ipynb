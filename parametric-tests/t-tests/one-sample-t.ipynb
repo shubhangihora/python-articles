{
 "cells": [
  {
   "cell_type": "markdown",
   "id": "54b5d94c-b839-4651-bb30-8979a6627722",
   "metadata": {},
   "source": [
    "# One-sample t-test\n",
    "\n",
    "### Dataset creation\n",
    "\n",
    "To create our dataset we need 25 datapoints whose height field has a mean of 162cm, a standard deviation of 2.36cm and follows a normal distribution. \n",
    "\n",
    "We’ll use scipy’s truncnorm function to help out with this. Truncnorm helps in creating a truncated normal distribution - a normal distribution with the x-values truncated from below, above or both ends. \n",
    "\n",
    "Since we’re dealing with height - a value which obviously can’t be between negative infinity and infinity - we need to set lower and upper boundaries, thus we’re using a truncated normal distribution. "
   ]
  },
  {
   "cell_type": "code",
   "execution_count": 12,
   "id": "58fd1cfa-0ee7-4f08-9e3a-e368fad1b5a5",
   "metadata": {},
   "outputs": [],
   "source": [
    "import scipy.stats as stats\n",
    "\n",
    "lower, upper = 152.0, 173.0 # set the lower and upper bounds \n",
    "mu, sigma = 162.0, 2.60 # set the mean and standard deviation\n",
    "dist = stats.truncnorm((lower - mu) / sigma, (upper - mu) / sigma, loc=mu, scale=sigma) # call the truncnorm function to create the distribution\n",
    "\n",
    "values = dist.rvs(25) # get 25 random values from our truncated normal distribution"
   ]
  },
  {
   "cell_type": "code",
   "execution_count": 69,
   "id": "05735967-8638-4901-9c13-b323244d780b",
   "metadata": {},
   "outputs": [
    {
     "data": {
      "text/plain": [
       "array([161.04932825, 157.94261787, 164.17888877, 163.54445848,\n",
       "       160.06771059, 163.45707845, 168.07863143, 165.58424396,\n",
       "       164.60559623, 162.37256999, 160.85236512, 159.47788765,\n",
       "       160.31123408, 161.94652962, 163.24033249, 161.39577547,\n",
       "       162.66344425, 163.54501256, 160.47064474, 159.17020422,\n",
       "       164.70719276, 161.7344409 , 159.57127502, 162.96029709,\n",
       "       158.41041088])"
      ]
     },
     "execution_count": 69,
     "metadata": {},
     "output_type": "execute_result"
    }
   ],
   "source": [
    "values"
   ]
  },
  {
   "cell_type": "markdown",
   "id": "e999e9e0-2856-43ef-af16-3ce4f9645d04",
   "metadata": {},
   "source": [
    "Next we want to assign an age to each height so that we have one more variable (though this is not required for the one-sample t-test, it'll be useful in the two-sample t-test). We'll use the random library to generate 25 values between 27 and 30."
   ]
  },
  {
   "cell_type": "code",
   "execution_count": 95,
   "id": "33107a09-1e25-4b3c-8c24-50694170e56e",
   "metadata": {},
   "outputs": [],
   "source": [
    "import random\n",
    "ages = [random.randint(27,30) for i in range (25)]"
   ]
  },
  {
   "cell_type": "markdown",
   "id": "56e1960e-9bb2-4587-9bc8-fd5dcbbc17ef",
   "metadata": {},
   "source": [
    "Now we need to combine the ages array and the heights array together to form a dataframe which we can then store in csv for future use."
   ]
  },
  {
   "cell_type": "code",
   "execution_count": 101,
   "id": "b65a5188-c190-4a01-ab12-3cd6dc54b574",
   "metadata": {},
   "outputs": [],
   "source": [
    "import pandas as pd\n",
    "df = pd.DataFrame({'age':ages, 'height':values})\n",
    "df.to_csv(\"one-sample-t.csv\", index=False)"
   ]
  },
  {
   "cell_type": "markdown",
   "id": "7951c8ca-92ae-41ca-a593-2a06a58105e5",
   "metadata": {},
   "source": [
    "### Reading and processing the dataset"
   ]
  },
  {
   "cell_type": "code",
   "execution_count": 5,
   "id": "9fd47a9d-d398-4aa3-be35-5b81b1a7ddc5",
   "metadata": {},
   "outputs": [
    {
     "data": {
      "text/html": [
       "<div>\n",
       "<style scoped>\n",
       "    .dataframe tbody tr th:only-of-type {\n",
       "        vertical-align: middle;\n",
       "    }\n",
       "\n",
       "    .dataframe tbody tr th {\n",
       "        vertical-align: top;\n",
       "    }\n",
       "\n",
       "    .dataframe thead th {\n",
       "        text-align: right;\n",
       "    }\n",
       "</style>\n",
       "<table border=\"1\" class=\"dataframe\">\n",
       "  <thead>\n",
       "    <tr style=\"text-align: right;\">\n",
       "      <th></th>\n",
       "      <th>age</th>\n",
       "      <th>height</th>\n",
       "    </tr>\n",
       "  </thead>\n",
       "  <tbody>\n",
       "    <tr>\n",
       "      <th>0</th>\n",
       "      <td>27</td>\n",
       "      <td>161.049328</td>\n",
       "    </tr>\n",
       "    <tr>\n",
       "      <th>1</th>\n",
       "      <td>27</td>\n",
       "      <td>157.942618</td>\n",
       "    </tr>\n",
       "    <tr>\n",
       "      <th>2</th>\n",
       "      <td>28</td>\n",
       "      <td>164.178889</td>\n",
       "    </tr>\n",
       "    <tr>\n",
       "      <th>3</th>\n",
       "      <td>29</td>\n",
       "      <td>163.544458</td>\n",
       "    </tr>\n",
       "    <tr>\n",
       "      <th>4</th>\n",
       "      <td>29</td>\n",
       "      <td>160.067711</td>\n",
       "    </tr>\n",
       "  </tbody>\n",
       "</table>\n",
       "</div>"
      ],
      "text/plain": [
       "   age      height\n",
       "0   27  161.049328\n",
       "1   27  157.942618\n",
       "2   28  164.178889\n",
       "3   29  163.544458\n",
       "4   29  160.067711"
      ]
     },
     "execution_count": 5,
     "metadata": {},
     "output_type": "execute_result"
    }
   ],
   "source": [
    "data = pd.read_csv(\"one-sample-t.csv\")\n",
    "data.head()"
   ]
  },
  {
   "cell_type": "code",
   "execution_count": 6,
   "id": "9fddddfd-3dd0-4d52-928d-6d37cbfca697",
   "metadata": {},
   "outputs": [
    {
     "data": {
      "text/plain": [
       "162.053526834564"
      ]
     },
     "execution_count": 6,
     "metadata": {},
     "output_type": "execute_result"
    }
   ],
   "source": [
    "data.height.mean()"
   ]
  },
  {
   "cell_type": "code",
   "execution_count": 7,
   "id": "7833676c-bab8-419b-9ceb-ca00000b7cd3",
   "metadata": {},
   "outputs": [
    {
     "data": {
      "text/plain": [
       "2.4128517286126048"
      ]
     },
     "execution_count": 7,
     "metadata": {},
     "output_type": "execute_result"
    }
   ],
   "source": [
    "data.height.std()"
   ]
  },
  {
   "cell_type": "markdown",
   "id": "6955918c-3519-4a30-ad63-e70680f3cb9f",
   "metadata": {
    "tags": []
   },
   "source": [
    "##### So the standard deviation of data.height is not 2.36, which is what we set it to be when we called scipy's truncnorm function. Why is that?\n",
    "\n",
    "This is because when we call truncnorm, it creates an entire normal distribution which is the 'population'. The standard deviation that we set at that time is the standard deviation of the height of the population. However, data.height consists of only 25 values from the distribution and is our 'sample', hence the standard deviation of data.height is slightly different than the standard deviation of the population."
   ]
  },
  {
   "cell_type": "markdown",
   "id": "381778cb-c1df-4cb1-954f-d6d645a1f85e",
   "metadata": {},
   "source": [
    "### Checking if data.height follows a normal distribution"
   ]
  },
  {
   "cell_type": "code",
   "execution_count": 9,
   "id": "89e2f47e-ce23-4fac-be8b-500f3e3b2a24",
   "metadata": {},
   "outputs": [
    {
     "name": "stderr",
     "output_type": "stream",
     "text": [
      "/opt/conda/lib/python3.9/site-packages/seaborn/distributions.py:2619: FutureWarning: `distplot` is a deprecated function and will be removed in a future version. Please adapt your code to use either `displot` (a figure-level function with similar flexibility) or `histplot` (an axes-level function for histograms).\n",
      "  warnings.warn(msg, FutureWarning)\n"
     ]
    },
    {
     "data": {
      "text/plain": [
       "<AxesSubplot:xlabel='height', ylabel='Density'>"
      ]
     },
     "execution_count": 9,
     "metadata": {},
     "output_type": "execute_result"
    },
    {
     "data": {
      "image/png": "[encoded data removed]",
      "text/plain": [
       "<Figure size 432x288 with 1 Axes>"
      ]
     },
     "metadata": {
      "needs_background": "light"
     },
     "output_type": "display_data"
    }
   ],
   "source": [
    "import seaborn as sns\n",
    "sns.distplot(data.height) # plotting a histogram with a curve"
   ]
  },
  {
   "cell_type": "code",
   "execution_count": 13,
   "id": "388902a4-6c5c-45ca-a14a-61acce1cadf2",
   "metadata": {},
   "outputs": [
    {
     "data": {
      "image/png": "[encoded data removed]",
      "text/plain": [
       "<Figure size 432x288 with 1 Axes>"
      ]
     },
     "metadata": {
      "needs_background": "light"
     },
     "output_type": "display_data"
    }
   ],
   "source": [
    "import pylab\n",
    "stats.probplot(data.height, dist=\"norm\", plot=pylab)\n",
    "pylab.show() # plotting a probability plot"
   ]
  },
  {
   "cell_type": "markdown",
   "id": "7258d933-abbe-449b-8f4f-fd9fa571dda1",
   "metadata": {},
   "source": [
    "### Performing the t-test"
   ]
  },
  {
   "cell_type": "code",
   "execution_count": 11,
   "id": "f5b65812-f5a6-4309-b26d-4fdbf913439d",
   "metadata": {},
   "outputs": [
    {
     "data": {
      "text/plain": [
       "Ttest_1sampResult(statistic=7.363748862859639, pvalue=1.32483697812078e-07)"
      ]
     },
     "execution_count": 11,
     "metadata": {},
     "output_type": "execute_result"
    }
   ],
   "source": [
    "stats.ttest_1samp(data.height,popmean=158.5)"
   ]
  }
 ],
 "metadata": {
  "kernelspec": {
   "display_name": "Python 3 (ipykernel)",
   "language": "python",
   "name": "python3"
  },
  "language_info": {
   "codemirror_mode": {
    "name": "ipython",
    "version": 3
   },
   "file_extension": ".py",
   "mimetype": "text/x-python",
   "name": "python",
   "nbconvert_exporter": "python",
   "pygments_lexer": "ipython3",
   "version": "3.9.7"
  }
 },
 "nbformat": 4,
 "nbformat_minor": 5
}
