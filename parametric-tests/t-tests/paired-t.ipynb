{
 "cells": [
  {
   "cell_type": "markdown",
   "id": "e1dac4bd-f1a8-4139-8688-c1881ba7f838",
   "metadata": {},
   "source": [
    "# Paired t-test\n",
    "\n",
    "### Dataset creation\n",
    "We need two sets of heights - before qand after. \n",
    "\n",
    "We’ll use scipy’s truncnorm function to help out with this. Truncnorm helps in creating a truncated normal distribution - a normal distribution with the x-values truncated from below, above or both ends. \n",
    "\n",
    "Since we’re dealing with height - a value which obviously can’t be between negative infinity and infinity - we need to set lower and upper boundaries, thus we’re using a truncated normal distribution. "
   ]
  },
  {
   "cell_type": "code",
   "execution_count": 33,
   "id": "4a3d2ec0-b782-402b-89c3-5dc17ce5967b",
   "metadata": {},
   "outputs": [],
   "source": [
    "import scipy.stats as stats\n",
    "\n",
    "lower, upper = 152.0, 173.0 # set the lower and upper bounds \n",
    "mu, sigma = 162.0, 2.40 # set the mean and standard deviation\n",
    "dist = stats.truncnorm((lower - mu) / sigma, (upper - mu) / sigma, loc=mu, scale=sigma) # call the truncnorm function to create the distribution\n",
    "\n",
    "values_before = dist.rvs(25) # get 25 random values from our truncated normal distribution"
   ]
  },
  {
   "cell_type": "code",
   "execution_count": 34,
   "id": "e7d7e7fe-4434-4a10-a534-f78336487990",
   "metadata": {},
   "outputs": [
    {
     "data": {
      "text/plain": [
       "161.27381008209488"
      ]
     },
     "execution_count": 34,
     "metadata": {},
     "output_type": "execute_result"
    }
   ],
   "source": [
    "values_before.mean()"
   ]
  },
  {
   "cell_type": "code",
   "execution_count": 35,
   "id": "b5253d5c-8dc0-4513-92f3-ea85f813fb32",
   "metadata": {},
   "outputs": [
    {
     "data": {
      "text/plain": [
       "1.9235249545654398"
      ]
     },
     "execution_count": 35,
     "metadata": {},
     "output_type": "execute_result"
    }
   ],
   "source": [
    "values_before.std()"
   ]
  },
  {
   "cell_type": "code",
   "execution_count": 36,
   "id": "635b854b-2559-4a41-8659-b31f0f2f0195",
   "metadata": {},
   "outputs": [
    {
     "data": {
      "text/plain": [
       "array([161.76374741, 162.59386722, 161.30987032, 157.98545025,\n",
       "       158.80108749, 160.57628889, 163.15444162, 158.24739908,\n",
       "       159.4923962 , 162.05427581, 162.07892074, 162.2121437 ,\n",
       "       166.45367854, 161.60598575, 162.34047273, 159.86493067,\n",
       "       161.03803666, 161.83416595, 163.17439602, 157.82573149,\n",
       "       160.0332295 , 162.63287606, 163.09324963, 159.81846224,\n",
       "       161.8601481 ])"
      ]
     },
     "execution_count": 36,
     "metadata": {},
     "output_type": "execute_result"
    }
   ],
   "source": [
    "values_before"
   ]
  },
  {
   "cell_type": "code",
   "execution_count": 57,
   "id": "8b926fab-e0b3-4554-b344-3432bb4d1e83",
   "metadata": {},
   "outputs": [],
   "source": [
    "import scipy.stats as stats\n",
    "\n",
    "lower, upper = 157.0, 179.0 # set the lower and upper bounds \n",
    "mu, sigma = 163.0, 2.40 # set the mean and standard deviation\n",
    "dist = stats.truncnorm((lower - mu) / sigma, (upper - mu) / sigma, loc=mu, scale=sigma) # call the truncnorm function to create the distribution\n",
    "\n",
    "values_after = dist.rvs(25) # get 25 random values from our truncated normal distribution"
   ]
  },
  {
   "cell_type": "code",
   "execution_count": 58,
   "id": "d54e9dfc-3f46-47ff-a63e-87c1e493ccb4",
   "metadata": {},
   "outputs": [
    {
     "data": {
      "text/plain": [
       "162.71094480854129"
      ]
     },
     "execution_count": 58,
     "metadata": {},
     "output_type": "execute_result"
    }
   ],
   "source": [
    "values_after.mean()"
   ]
  },
  {
   "cell_type": "code",
   "execution_count": 59,
   "id": "853fcf56-6a79-4d3a-acd2-6ff9dcda9ca9",
   "metadata": {},
   "outputs": [
    {
     "data": {
      "text/plain": [
       "2.8331946996840816"
      ]
     },
     "execution_count": 59,
     "metadata": {},
     "output_type": "execute_result"
    }
   ],
   "source": [
    "values_after.std()"
   ]
  },
  {
   "cell_type": "code",
   "execution_count": 60,
   "id": "cfed239d-fa3a-407a-b982-26fd867506fe",
   "metadata": {},
   "outputs": [
    {
     "data": {
      "text/plain": [
       "array([158.74014853, 165.92404909, 162.23634905, 162.44495908,\n",
       "       163.96287528, 159.81694236, 165.6083967 , 164.56746343,\n",
       "       159.58459113, 163.65555083, 169.26600781, 162.84473321,\n",
       "       160.38675086, 167.43716999, 161.70510557, 163.57406141,\n",
       "       163.24227802, 164.26797128, 157.45431875, 166.81909286,\n",
       "       159.33212755, 160.32409765, 160.91927371, 161.46793773,\n",
       "       162.19136833])"
      ]
     },
     "execution_count": 60,
     "metadata": {},
     "output_type": "execute_result"
    }
   ],
   "source": [
    "values_after"
   ]
  },
  {
   "cell_type": "code",
   "execution_count": 41,
   "id": "25670346-2df0-4131-8f35-1117574091e4",
   "metadata": {},
   "outputs": [],
   "source": [
    "import random\n",
    "ages = [random.randint(19,23) for i in range (25)]"
   ]
  },
  {
   "cell_type": "code",
   "execution_count": 42,
   "id": "382920ec-8c02-4171-804d-4d1f071ee82a",
   "metadata": {},
   "outputs": [
    {
     "data": {
      "text/plain": [
       "[20,\n",
       " 19,\n",
       " 20,\n",
       " 19,\n",
       " 20,\n",
       " 22,\n",
       " 19,\n",
       " 22,\n",
       " 23,\n",
       " 19,\n",
       " 21,\n",
       " 20,\n",
       " 21,\n",
       " 20,\n",
       " 22,\n",
       " 22,\n",
       " 19,\n",
       " 19,\n",
       " 21,\n",
       " 22,\n",
       " 19,\n",
       " 21,\n",
       " 20,\n",
       " 21,\n",
       " 19]"
      ]
     },
     "execution_count": 42,
     "metadata": {},
     "output_type": "execute_result"
    }
   ],
   "source": [
    "ages"
   ]
  },
  {
   "cell_type": "code",
   "execution_count": 61,
   "id": "8c6851c2-8425-4af1-bd49-31925d69f8dc",
   "metadata": {},
   "outputs": [],
   "source": [
    "import pandas as pd\n",
    "df = pd.DataFrame({'age':ages, 'height_before':values_before, 'height_after':values_after})\n",
    "df.to_csv(\"paired-t.csv\", index=False)"
   ]
  },
  {
   "cell_type": "code",
   "execution_count": 68,
   "id": "354e94f8-86e2-45e7-ba33-1f80ac4b1e77",
   "metadata": {},
   "outputs": [
    {
     "data": {
      "text/html": [
       "<div>\n",
       "<style scoped>\n",
       "    .dataframe tbody tr th:only-of-type {\n",
       "        vertical-align: middle;\n",
       "    }\n",
       "\n",
       "    .dataframe tbody tr th {\n",
       "        vertical-align: top;\n",
       "    }\n",
       "\n",
       "    .dataframe thead th {\n",
       "        text-align: right;\n",
       "    }\n",
       "</style>\n",
       "<table border=\"1\" class=\"dataframe\">\n",
       "  <thead>\n",
       "    <tr style=\"text-align: right;\">\n",
       "      <th></th>\n",
       "      <th>age</th>\n",
       "      <th>height_before</th>\n",
       "      <th>height_after</th>\n",
       "    </tr>\n",
       "  </thead>\n",
       "  <tbody>\n",
       "    <tr>\n",
       "      <th>0</th>\n",
       "      <td>20</td>\n",
       "      <td>161.763747</td>\n",
       "      <td>158.740149</td>\n",
       "    </tr>\n",
       "    <tr>\n",
       "      <th>1</th>\n",
       "      <td>19</td>\n",
       "      <td>162.593867</td>\n",
       "      <td>165.924049</td>\n",
       "    </tr>\n",
       "    <tr>\n",
       "      <th>2</th>\n",
       "      <td>20</td>\n",
       "      <td>161.309870</td>\n",
       "      <td>162.236349</td>\n",
       "    </tr>\n",
       "    <tr>\n",
       "      <th>3</th>\n",
       "      <td>19</td>\n",
       "      <td>157.985450</td>\n",
       "      <td>162.444959</td>\n",
       "    </tr>\n",
       "    <tr>\n",
       "      <th>4</th>\n",
       "      <td>20</td>\n",
       "      <td>158.801087</td>\n",
       "      <td>163.962875</td>\n",
       "    </tr>\n",
       "  </tbody>\n",
       "</table>\n",
       "</div>"
      ],
      "text/plain": [
       "   age  height_before  height_after\n",
       "0   20     161.763747    158.740149\n",
       "1   19     162.593867    165.924049\n",
       "2   20     161.309870    162.236349\n",
       "3   19     157.985450    162.444959\n",
       "4   20     158.801087    163.962875"
      ]
     },
     "execution_count": 68,
     "metadata": {},
     "output_type": "execute_result"
    }
   ],
   "source": [
    "data = pd.read_csv(\"paired-t.csv\")\n",
    "data.head()"
   ]
  },
  {
   "cell_type": "code",
   "execution_count": 74,
   "id": "0020a8cf-d72d-40bb-801d-7a8304de87cc",
   "metadata": {},
   "outputs": [
    {
     "data": {
      "text/html": [
       "<div>\n",
       "<style scoped>\n",
       "    .dataframe tbody tr th:only-of-type {\n",
       "        vertical-align: middle;\n",
       "    }\n",
       "\n",
       "    .dataframe tbody tr th {\n",
       "        vertical-align: top;\n",
       "    }\n",
       "\n",
       "    .dataframe thead th {\n",
       "        text-align: right;\n",
       "    }\n",
       "</style>\n",
       "<table border=\"1\" class=\"dataframe\">\n",
       "  <thead>\n",
       "    <tr style=\"text-align: right;\">\n",
       "      <th></th>\n",
       "      <th>age</th>\n",
       "      <th>height_before</th>\n",
       "      <th>height_after</th>\n",
       "    </tr>\n",
       "  </thead>\n",
       "  <tbody>\n",
       "    <tr>\n",
       "      <th>count</th>\n",
       "      <td>25.000000</td>\n",
       "      <td>25.000000</td>\n",
       "      <td>25.000000</td>\n",
       "    </tr>\n",
       "    <tr>\n",
       "      <th>mean</th>\n",
       "      <td>20.400000</td>\n",
       "      <td>161.273810</td>\n",
       "      <td>162.710945</td>\n",
       "    </tr>\n",
       "    <tr>\n",
       "      <th>std</th>\n",
       "      <td>1.258306</td>\n",
       "      <td>1.963189</td>\n",
       "      <td>2.891617</td>\n",
       "    </tr>\n",
       "    <tr>\n",
       "      <th>min</th>\n",
       "      <td>19.000000</td>\n",
       "      <td>157.825731</td>\n",
       "      <td>157.454319</td>\n",
       "    </tr>\n",
       "    <tr>\n",
       "      <th>25%</th>\n",
       "      <td>19.000000</td>\n",
       "      <td>159.864931</td>\n",
       "      <td>160.386751</td>\n",
       "    </tr>\n",
       "    <tr>\n",
       "      <th>50%</th>\n",
       "      <td>20.000000</td>\n",
       "      <td>161.763747</td>\n",
       "      <td>162.444959</td>\n",
       "    </tr>\n",
       "    <tr>\n",
       "      <th>75%</th>\n",
       "      <td>21.000000</td>\n",
       "      <td>162.340473</td>\n",
       "      <td>164.267971</td>\n",
       "    </tr>\n",
       "    <tr>\n",
       "      <th>max</th>\n",
       "      <td>23.000000</td>\n",
       "      <td>166.453679</td>\n",
       "      <td>169.266008</td>\n",
       "    </tr>\n",
       "  </tbody>\n",
       "</table>\n",
       "</div>"
      ],
      "text/plain": [
       "             age  height_before  height_after\n",
       "count  25.000000      25.000000     25.000000\n",
       "mean   20.400000     161.273810    162.710945\n",
       "std     1.258306       1.963189      2.891617\n",
       "min    19.000000     157.825731    157.454319\n",
       "25%    19.000000     159.864931    160.386751\n",
       "50%    20.000000     161.763747    162.444959\n",
       "75%    21.000000     162.340473    164.267971\n",
       "max    23.000000     166.453679    169.266008"
      ]
     },
     "execution_count": 74,
     "metadata": {},
     "output_type": "execute_result"
    }
   ],
   "source": [
    "data.describe()"
   ]
  },
  {
   "cell_type": "code",
   "execution_count": 73,
   "id": "2ccfc988-7768-4fe6-9320-28e02a623b1b",
   "metadata": {},
   "outputs": [
    {
     "data": {
      "text/plain": [
       "Ttest_relResult(statistic=-1.9094338173992416, pvalue=0.9658844528005113)"
      ]
     },
     "execution_count": 73,
     "metadata": {},
     "output_type": "execute_result"
    }
   ],
   "source": [
    "stats.ttest_rel(data.height_before, data.height_after, alternative='greater')"
   ]
  }
 ],
 "metadata": {
  "kernelspec": {
   "display_name": "Python 3 (ipykernel)",
   "language": "python",
   "name": "python3"
  },
  "language_info": {
   "codemirror_mode": {
    "name": "ipython",
    "version": 3
   },
   "file_extension": ".py",
   "mimetype": "text/x-python",
   "name": "python",
   "nbconvert_exporter": "python",
   "pygments_lexer": "ipython3",
   "version": "3.9.7"
  }
 },
 "nbformat": 4,
 "nbformat_minor": 5
}
