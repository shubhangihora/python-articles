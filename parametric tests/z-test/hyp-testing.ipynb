{
 "cells": [
  {
   "cell_type": "code",
   "execution_count": 3,
   "id": "6a32c693-3e87-4eb7-8df1-4df329e2ea29",
   "metadata": {},
   "outputs": [],
   "source": [
    "import pandas as pd\n",
    "import numpy as np \n",
    "import scipy as sp\n",
    "import statsmodels.api as sm\n",
    "import pylab as py"
   ]
  },
  {
   "cell_type": "code",
   "execution_count": 4,
   "id": "012af0bc-6489-436f-8851-55ecd7089b5e",
   "metadata": {},
   "outputs": [
    {
     "data": {
      "text/html": [
       "<div>\n",
       "<style scoped>\n",
       "    .dataframe tbody tr th:only-of-type {\n",
       "        vertical-align: middle;\n",
       "    }\n",
       "\n",
       "    .dataframe tbody tr th {\n",
       "        vertical-align: top;\n",
       "    }\n",
       "\n",
       "    .dataframe thead th {\n",
       "        text-align: right;\n",
       "    }\n",
       "</style>\n",
       "<table border=\"1\" class=\"dataframe\">\n",
       "  <thead>\n",
       "    <tr style=\"text-align: right;\">\n",
       "      <th></th>\n",
       "      <th>Province/State</th>\n",
       "      <th>Country/Region</th>\n",
       "      <th>Last Update</th>\n",
       "      <th>Confirmed</th>\n",
       "      <th>Deaths</th>\n",
       "      <th>Recovered</th>\n",
       "      <th>Latitude</th>\n",
       "      <th>Longitude</th>\n",
       "      <th>Temperature</th>\n",
       "      <th>Humidity</th>\n",
       "    </tr>\n",
       "  </thead>\n",
       "  <tbody>\n",
       "    <tr>\n",
       "      <th>0</th>\n",
       "      <td>Hubei</td>\n",
       "      <td>Mainland China</td>\n",
       "      <td>2020-03-10T15:13:05</td>\n",
       "      <td>67760</td>\n",
       "      <td>3024</td>\n",
       "      <td>47743</td>\n",
       "      <td>30.9756</td>\n",
       "      <td>112.2707</td>\n",
       "      <td>12.5</td>\n",
       "      <td>86</td>\n",
       "    </tr>\n",
       "    <tr>\n",
       "      <th>1</th>\n",
       "      <td>NaN</td>\n",
       "      <td>Italy</td>\n",
       "      <td>2020-03-10T17:53:02</td>\n",
       "      <td>10149</td>\n",
       "      <td>631</td>\n",
       "      <td>724</td>\n",
       "      <td>43.0000</td>\n",
       "      <td>12.0000</td>\n",
       "      <td>12.9</td>\n",
       "      <td>64</td>\n",
       "    </tr>\n",
       "    <tr>\n",
       "      <th>2</th>\n",
       "      <td>NaN</td>\n",
       "      <td>Iran (Islamic Republic of)</td>\n",
       "      <td>2020-03-10T19:13:20</td>\n",
       "      <td>8042</td>\n",
       "      <td>291</td>\n",
       "      <td>2731</td>\n",
       "      <td>32.0000</td>\n",
       "      <td>53.0000</td>\n",
       "      <td>11.9</td>\n",
       "      <td>9</td>\n",
       "    </tr>\n",
       "    <tr>\n",
       "      <th>3</th>\n",
       "      <td>NaN</td>\n",
       "      <td>Republic of Korea</td>\n",
       "      <td>2020-03-10T19:13:20</td>\n",
       "      <td>7513</td>\n",
       "      <td>54</td>\n",
       "      <td>247</td>\n",
       "      <td>36.0000</td>\n",
       "      <td>128.0000</td>\n",
       "      <td>4.9</td>\n",
       "      <td>41</td>\n",
       "    </tr>\n",
       "    <tr>\n",
       "      <th>4</th>\n",
       "      <td>NaN</td>\n",
       "      <td>France</td>\n",
       "      <td>2020-03-10T18:53:02</td>\n",
       "      <td>1784</td>\n",
       "      <td>33</td>\n",
       "      <td>12</td>\n",
       "      <td>47.0000</td>\n",
       "      <td>2.0000</td>\n",
       "      <td>11.9</td>\n",
       "      <td>93</td>\n",
       "    </tr>\n",
       "  </tbody>\n",
       "</table>\n",
       "</div>"
      ],
      "text/plain": [
       "  Province/State              Country/Region          Last Update  Confirmed  \\\n",
       "0          Hubei              Mainland China  2020-03-10T15:13:05      67760   \n",
       "1            NaN                       Italy  2020-03-10T17:53:02      10149   \n",
       "2            NaN  Iran (Islamic Republic of)  2020-03-10T19:13:20       8042   \n",
       "3            NaN           Republic of Korea  2020-03-10T19:13:20       7513   \n",
       "4            NaN                      France  2020-03-10T18:53:02       1784   \n",
       "\n",
       "   Deaths  Recovered  Latitude  Longitude  Temperature  Humidity  \n",
       "0    3024      47743   30.9756   112.2707         12.5        86  \n",
       "1     631        724   43.0000    12.0000         12.9        64  \n",
       "2     291       2731   32.0000    53.0000         11.9         9  \n",
       "3      54        247   36.0000   128.0000          4.9        41  \n",
       "4      33         12   47.0000     2.0000         11.9        93  "
      ]
     },
     "execution_count": 4,
     "metadata": {},
     "output_type": "execute_result"
    }
   ],
   "source": [
    "covid = pd.read_csv(\"Covid-19.csv\")\n",
    "covid = covid.drop([\"Unnamed: 0\"], axis=1)\n",
    "covid.head()"
   ]
  },
  {
   "cell_type": "code",
   "execution_count": 5,
   "id": "461afce4-e5e3-4493-88e9-62cc45cca81f",
   "metadata": {},
   "outputs": [
    {
     "data": {
      "text/html": [
       "<div>\n",
       "<style scoped>\n",
       "    .dataframe tbody tr th:only-of-type {\n",
       "        vertical-align: middle;\n",
       "    }\n",
       "\n",
       "    .dataframe tbody tr th {\n",
       "        vertical-align: top;\n",
       "    }\n",
       "\n",
       "    .dataframe thead th {\n",
       "        text-align: right;\n",
       "    }\n",
       "</style>\n",
       "<table border=\"1\" class=\"dataframe\">\n",
       "  <thead>\n",
       "    <tr style=\"text-align: right;\">\n",
       "      <th></th>\n",
       "      <th>Confirmed</th>\n",
       "      <th>Deaths</th>\n",
       "      <th>Recovered</th>\n",
       "      <th>Latitude</th>\n",
       "      <th>Longitude</th>\n",
       "      <th>Temperature</th>\n",
       "      <th>Humidity</th>\n",
       "    </tr>\n",
       "  </thead>\n",
       "  <tbody>\n",
       "    <tr>\n",
       "      <th>count</th>\n",
       "      <td>192.000000</td>\n",
       "      <td>192.000000</td>\n",
       "      <td>192.000000</td>\n",
       "      <td>192.000000</td>\n",
       "      <td>192.000000</td>\n",
       "      <td>192.000000</td>\n",
       "      <td>192.000000</td>\n",
       "    </tr>\n",
       "    <tr>\n",
       "      <th>mean</th>\n",
       "      <td>617.614583</td>\n",
       "      <td>22.197917</td>\n",
       "      <td>335.437500</td>\n",
       "      <td>30.381064</td>\n",
       "      <td>18.561578</td>\n",
       "      <td>12.727083</td>\n",
       "      <td>67.119792</td>\n",
       "    </tr>\n",
       "    <tr>\n",
       "      <th>std</th>\n",
       "      <td>4993.712023</td>\n",
       "      <td>223.488413</td>\n",
       "      <td>3451.634812</td>\n",
       "      <td>21.770743</td>\n",
       "      <td>81.774397</td>\n",
       "      <td>10.040635</td>\n",
       "      <td>22.099992</td>\n",
       "    </tr>\n",
       "    <tr>\n",
       "      <th>min</th>\n",
       "      <td>1.000000</td>\n",
       "      <td>0.000000</td>\n",
       "      <td>0.000000</td>\n",
       "      <td>-41.454500</td>\n",
       "      <td>-157.498300</td>\n",
       "      <td>-18.800000</td>\n",
       "      <td>6.000000</td>\n",
       "    </tr>\n",
       "    <tr>\n",
       "      <th>25%</th>\n",
       "      <td>4.000000</td>\n",
       "      <td>0.000000</td>\n",
       "      <td>0.000000</td>\n",
       "      <td>23.696250</td>\n",
       "      <td>-71.516375</td>\n",
       "      <td>6.650000</td>\n",
       "      <td>53.750000</td>\n",
       "    </tr>\n",
       "    <tr>\n",
       "      <th>50%</th>\n",
       "      <td>15.000000</td>\n",
       "      <td>0.000000</td>\n",
       "      <td>0.000000</td>\n",
       "      <td>35.842650</td>\n",
       "      <td>19.601150</td>\n",
       "      <td>12.000000</td>\n",
       "      <td>73.000000</td>\n",
       "    </tr>\n",
       "    <tr>\n",
       "      <th>75%</th>\n",
       "      <td>97.250000</td>\n",
       "      <td>1.000000</td>\n",
       "      <td>9.250000</td>\n",
       "      <td>43.505900</td>\n",
       "      <td>103.833550</td>\n",
       "      <td>20.900000</td>\n",
       "      <td>84.000000</td>\n",
       "    </tr>\n",
       "    <tr>\n",
       "      <th>max</th>\n",
       "      <td>67760.000000</td>\n",
       "      <td>3024.000000</td>\n",
       "      <td>47743.000000</td>\n",
       "      <td>64.963100</td>\n",
       "      <td>174.886000</td>\n",
       "      <td>33.100000</td>\n",
       "      <td>98.000000</td>\n",
       "    </tr>\n",
       "  </tbody>\n",
       "</table>\n",
       "</div>"
      ],
      "text/plain": [
       "          Confirmed       Deaths     Recovered    Latitude   Longitude  \\\n",
       "count    192.000000   192.000000    192.000000  192.000000  192.000000   \n",
       "mean     617.614583    22.197917    335.437500   30.381064   18.561578   \n",
       "std     4993.712023   223.488413   3451.634812   21.770743   81.774397   \n",
       "min        1.000000     0.000000      0.000000  -41.454500 -157.498300   \n",
       "25%        4.000000     0.000000      0.000000   23.696250  -71.516375   \n",
       "50%       15.000000     0.000000      0.000000   35.842650   19.601150   \n",
       "75%       97.250000     1.000000      9.250000   43.505900  103.833550   \n",
       "max    67760.000000  3024.000000  47743.000000   64.963100  174.886000   \n",
       "\n",
       "       Temperature    Humidity  \n",
       "count   192.000000  192.000000  \n",
       "mean     12.727083   67.119792  \n",
       "std      10.040635   22.099992  \n",
       "min     -18.800000    6.000000  \n",
       "25%       6.650000   53.750000  \n",
       "50%      12.000000   73.000000  \n",
       "75%      20.900000   84.000000  \n",
       "max      33.100000   98.000000  "
      ]
     },
     "execution_count": 5,
     "metadata": {},
     "output_type": "execute_result"
    }
   ],
   "source": [
    "covid.describe()"
   ]
  },
  {
   "cell_type": "code",
   "execution_count": 6,
   "id": "15412bf4-800d-49af-913b-ee98f975d772",
   "metadata": {},
   "outputs": [
    {
     "data": {
      "text/plain": [
       "12.727083333333335"
      ]
     },
     "execution_count": 6,
     "metadata": {},
     "output_type": "execute_result"
    }
   ],
   "source": [
    "covid.Temperature.mean()"
   ]
  },
  {
   "cell_type": "code",
   "execution_count": 11,
   "id": "69f7b3cc-da58-4ad4-9773-e42762678ed5",
   "metadata": {},
   "outputs": [],
   "source": [
    "def hyptest(data, value, alternate, alpha):\n",
    "    z, p = sm.stats.ztest(data, value = value, alternative = alternate)\n",
    "    result = 'null hypothesis rejected!' if p < alpha else 'null hypothesis not rejected'\n",
    "    return z, p, result"
   ]
  },
  {
   "cell_type": "code",
   "execution_count": 12,
   "id": "5cd2c9d7-eb61-4c2e-863a-1334fc169482",
   "metadata": {},
   "outputs": [
    {
     "data": {
      "text/plain": [
       "(1.0033989581188794, 0.15783420330389508, 'null hypothesis not rejected')"
      ]
     },
     "execution_count": 12,
     "metadata": {},
     "output_type": "execute_result"
    }
   ],
   "source": [
    "hyptest(covid.Temperature, 12, \"larger\", 0.05)"
   ]
  },
  {
   "cell_type": "code",
   "execution_count": 259,
   "id": "e664d9f4-c33a-4a03-9952-9de5f9564639",
   "metadata": {},
   "outputs": [
    {
     "data": {
      "image/png": "[encoded data removed]",
      "text/plain": [
       "<Figure size 432x288 with 1 Axes>"
      ]
     },
     "metadata": {
      "needs_background": "light"
     },
     "output_type": "display_data"
    }
   ],
   "source": [
    "import matplotlib.pyplot as plt\n",
    "import numpy as np\n",
    "import scipy.stats as stats\n",
    "import math\n",
    "\n",
    "mean = 0\n",
    "variance = 1\n",
    "sd = math.sqrt(variance)\n",
    "points = np.linspace(mean - 3*sd, mean + 3*sd, 100)\n",
    "plt.plot(points, stats.norm.pdf(points, mean, sd))\n",
    "plt.fill_between(points,stats.norm.pdf(points, mean, sd), 0, where=(points>1.645), alpha=0.30, color=\"orange\")\n",
    "plt.savefig(\"right-tailed.png\")\n",
    "plt.show()"
   ]
  },
  {
   "cell_type": "code",
   "execution_count": 271,
   "id": "78a1f87e-6e42-46b3-94fc-c7867be800a1",
   "metadata": {},
   "outputs": [
    {
     "data": {
      "image/png": "[encoded data removed]",
      "text/plain": [
       "<Figure size 432x288 with 1 Axes>"
      ]
     },
     "metadata": {
      "needs_background": "light"
     },
     "output_type": "display_data"
    }
   ],
   "source": [
    "mean = 0\n",
    "variance = 1\n",
    "sd = math.sqrt(variance)\n",
    "points = np.linspace(mean - 3*sd, mean + 3*sd, 100)\n",
    "plt.plot(points, stats.norm.pdf(points, mean, sd))\n",
    "plt.fill_between(points,stats.norm.pdf(points, mean, sd), 0, where=(points>1.645), color=\"orange\")\n",
    "plt.fill_between(points,stats.norm.pdf(points, mean, sd), 0, where=(points>1.88), alpha=0.30, color=\"white\")\n",
    "plt.savefig(\"right-tailed-w-p-value.png\")\n",
    "plt.show()"
   ]
  },
  {
   "cell_type": "code",
   "execution_count": 260,
   "id": "7e2065ce-8a09-4fdc-87c0-798054e7db2e",
   "metadata": {},
   "outputs": [
    {
     "data": {
      "image/png": "[encoded data removed]",
      "text/plain": [
       "<Figure size 432x288 with 1 Axes>"
      ]
     },
     "metadata": {
      "needs_background": "light"
     },
     "output_type": "display_data"
    }
   ],
   "source": [
    "mean = 0\n",
    "variance = 1\n",
    "sd = math.sqrt(variance)\n",
    "points = np.linspace(mean - 3*sd, mean + 3*sd, 100)\n",
    "plt.plot(points, stats.norm.pdf(points, mean, sd))\n",
    "plt.fill_between(points,stats.norm.pdf(points, mean, sd), 0, where=(points>1.960), alpha=0.30, color=\"orange\")\n",
    "plt.fill_between(points,stats.norm.pdf(points, mean, sd), 0, where=(points<-1.960), alpha=0.30, color=\"orange\")\n",
    "plt.savefig(\"two-tailed.png\")\n",
    "plt.show()"
   ]
  }
 ],
 "metadata": {
  "kernelspec": {
   "display_name": "Python 3 (ipykernel)",
   "language": "python",
   "name": "python3"
  },
  "language_info": {
   "codemirror_mode": {
    "name": "ipython",
    "version": 3
   },
   "file_extension": ".py",
   "mimetype": "text/x-python",
   "name": "python",
   "nbconvert_exporter": "python",
   "pygments_lexer": "ipython3",
   "version": "3.9.5"
  }
 },
 "nbformat": 4,
 "nbformat_minor": 5
}
